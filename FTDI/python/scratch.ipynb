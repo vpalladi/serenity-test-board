{
 "cells": [
  {
   "cell_type": "code",
   "execution_count": 1,
   "metadata": {},
   "outputs": [],
   "source": [
    "import pandas as pd\n",
    "import sqlalchemy\n",
    "from upload import *\n",
    "from glob import glob\n",
    "import re"
   ]
  },
  {
   "cell_type": "code",
   "execution_count": 2,
   "metadata": {},
   "outputs": [],
   "source": [
    "files = glob('../data/*.dat')\n",
    "data = Data(files[0])"
   ]
  },
  {
   "cell_type": "code",
   "execution_count": 3,
   "metadata": {},
   "outputs": [],
   "source": [
    "df = data.getDataFrame()"
   ]
  },
  {
   "cell_type": "code",
   "execution_count": 4,
   "metadata": {},
   "outputs": [
    {
     "data": {
      "text/plain": [
       "datetime.datetime(2019, 3, 15, 13, 36, 43)"
      ]
     },
     "execution_count": 4,
     "metadata": {},
     "output_type": "execute_result"
    }
   ],
   "source": [
    "data.timestamp"
   ]
  },
  {
   "cell_type": "code",
   "execution_count": 15,
   "metadata": {},
   "outputs": [
    {
     "data": {
      "text/plain": [
       "['X1_POWER_MGTVCCAUX_N        ',\n",
       " 'X1_POWER_MGTAVTT_S          ',\n",
       " 'X1_POWER_MGTAVCC_S          ',\n",
       " 'X1_POWER_MGTAVCC_N          ',\n",
       " 'X1_POWER_MGTAVTT_N          ',\n",
       " 'X1_POWER_VCCAUX             ',\n",
       " 'X1_POWER_+1.8V              ',\n",
       " 'X1_POWER_+3.3V              ',\n",
       " 'SERVICES+1.5V               ',\n",
       " 'SERVICES+1.0V               ',\n",
       " 'SERVICES+1.8V               ',\n",
       " 'SERVICES+3.3V               ',\n",
       " '5V_SCALED                   ',\n",
       " 'X1_POWER_VCCINT             ',\n",
       " 'X1_POWER_MGTVCCAUC_S        ',\n",
       " 'X1_POWER_+1.8V_ANALOGUE     ',\n",
       " 'X0_POWER_MGTVCCAUC_N        ',\n",
       " 'X0_POWER_+1.8V_ANALOGUE     ',\n",
       " 'X0_POWER_MGTVCCAUC_S        ',\n",
       " 'X0_POWER_VCCINT             ',\n",
       " 'X0_POWER_+3.3V              ',\n",
       " 'ARTIX_MGTAVTT               ',\n",
       " 'ARTIX_MGTAVCC               ',\n",
       " 'SERVICES_POWER_STANDBY_+3.3V',\n",
       " 'Not Used                    ',\n",
       " '+12_SCALED                  ',\n",
       " 'X0_POWER_+1.8V              ',\n",
       " 'X0_POWER_VCCAUX             ',\n",
       " 'X0_POWER_MGTAVTT_N          ',\n",
       " 'X0_POWER_MGTAVCC_N          ',\n",
       " 'X0_POWER_MGTAVCC_S          ',\n",
       " 'X0_POWER_MGTAVTT_S          ']"
      ]
     },
     "execution_count": 15,
     "metadata": {},
     "output_type": "execute_result"
    }
   ],
   "source": [
    "list(df.columns)"
   ]
  },
  {
   "cell_type": "code",
   "execution_count": 6,
   "metadata": {},
   "outputs": [
    {
     "name": "stdout",
     "output_type": "stream",
     "text": [
      "2019-03-15 15:36:55,893 INFO sqlalchemy.engine.base.Engine SELECT CAST('test plain returns' AS VARCHAR(60)) AS anon_1\n",
      "2019-03-15 15:36:55,893 INFO sqlalchemy.engine.base.Engine ()\n",
      "2019-03-15 15:36:55,894 INFO sqlalchemy.engine.base.Engine SELECT CAST('test unicode returns' AS VARCHAR(60)) AS anon_1\n",
      "2019-03-15 15:36:55,894 INFO sqlalchemy.engine.base.Engine ()\n",
      "2019-03-15 15:36:55,895 INFO sqlalchemy.engine.base.Engine PRAGMA table_info(\"20190315133643\")\n",
      "2019-03-15 15:36:55,896 INFO sqlalchemy.engine.base.Engine ()\n",
      "2019-03-15 15:36:55,898 INFO sqlalchemy.engine.base.Engine \n",
      "CREATE TABLE \"20190315133643\" (\n",
      "\t\"index\" BIGINT, \n",
      "\t\"X1_POWER_MGTVCCAUX_N        \" FLOAT, \n",
      "\t\"X1_POWER_MGTAVTT_S          \" FLOAT, \n",
      "\t\"X1_POWER_MGTAVCC_S          \" FLOAT, \n",
      "\t\"X1_POWER_MGTAVCC_N          \" FLOAT, \n",
      "\t\"X1_POWER_MGTAVTT_N          \" FLOAT, \n",
      "\t\"X1_POWER_VCCAUX             \" FLOAT, \n",
      "\t\"X1_POWER_+1.8V              \" FLOAT, \n",
      "\t\"X1_POWER_+3.3V              \" FLOAT, \n",
      "\t\"SERVICES+1.5V               \" FLOAT, \n",
      "\t\"SERVICES+1.0V               \" FLOAT, \n",
      "\t\"SERVICES+1.8V               \" FLOAT, \n",
      "\t\"SERVICES+3.3V               \" FLOAT, \n",
      "\t\"5V_SCALED                   \" FLOAT, \n",
      "\t\"X1_POWER_VCCINT             \" FLOAT, \n",
      "\t\"X1_POWER_MGTVCCAUC_S        \" FLOAT, \n",
      "\t\"X1_POWER_+1.8V_ANALOGUE     \" FLOAT, \n",
      "\t\"X0_POWER_MGTVCCAUC_N        \" FLOAT, \n",
      "\t\"X0_POWER_+1.8V_ANALOGUE     \" FLOAT, \n",
      "\t\"X0_POWER_MGTVCCAUC_S        \" FLOAT, \n",
      "\t\"X0_POWER_VCCINT             \" FLOAT, \n",
      "\t\"X0_POWER_+3.3V              \" FLOAT, \n",
      "\t\"ARTIX_MGTAVTT               \" FLOAT, \n",
      "\t\"ARTIX_MGTAVCC               \" FLOAT, \n",
      "\t\"SERVICES_POWER_STANDBY_+3.3V\" FLOAT, \n",
      "\t\"Not Used                    \" FLOAT, \n",
      "\t\"+12_SCALED                  \" FLOAT, \n",
      "\t\"X0_POWER_+1.8V              \" FLOAT, \n",
      "\t\"X0_POWER_VCCAUX             \" FLOAT, \n",
      "\t\"X0_POWER_MGTAVTT_N          \" FLOAT, \n",
      "\t\"X0_POWER_MGTAVCC_N          \" FLOAT, \n",
      "\t\"X0_POWER_MGTAVCC_S          \" FLOAT, \n",
      "\t\"X0_POWER_MGTAVTT_S          \" FLOAT\n",
      ")\n",
      "\n",
      "\n",
      "2019-03-15 15:36:55,898 INFO sqlalchemy.engine.base.Engine ()\n",
      "2019-03-15 15:36:55,902 INFO sqlalchemy.engine.base.Engine COMMIT\n",
      "2019-03-15 15:36:55,902 INFO sqlalchemy.engine.base.Engine CREATE INDEX ix_20190315133643_index ON \"20190315133643\" (\"index\")\n",
      "2019-03-15 15:36:55,903 INFO sqlalchemy.engine.base.Engine ()\n",
      "2019-03-15 15:36:55,906 INFO sqlalchemy.engine.base.Engine COMMIT\n",
      "2019-03-15 15:36:55,908 INFO sqlalchemy.engine.base.Engine BEGIN (implicit)\n",
      "2019-03-15 15:36:55,910 INFO sqlalchemy.engine.base.Engine INSERT INTO \"20190315133643\" (\"index\", \"X1_POWER_MGTVCCAUX_N        \", \"X1_POWER_MGTAVTT_S          \", \"X1_POWER_MGTAVCC_S          \", \"X1_POWER_MGTAVCC_N          \", \"X1_POWER_MGTAVTT_N          \", \"X1_POWER_VCCAUX             \", \"X1_POWER_+1.8V              \", \"X1_POWER_+3.3V              \", \"SERVICES+1.5V               \", \"SERVICES+1.0V               \", \"SERVICES+1.8V               \", \"SERVICES+3.3V               \", \"5V_SCALED                   \", \"X1_POWER_VCCINT             \", \"X1_POWER_MGTVCCAUC_S        \", \"X1_POWER_+1.8V_ANALOGUE     \", \"X0_POWER_MGTVCCAUC_N        \", \"X0_POWER_+1.8V_ANALOGUE     \", \"X0_POWER_MGTVCCAUC_S        \", \"X0_POWER_VCCINT             \", \"X0_POWER_+3.3V              \", \"ARTIX_MGTAVTT               \", \"ARTIX_MGTAVCC               \", \"SERVICES_POWER_STANDBY_+3.3V\", \"Not Used                    \", \"+12_SCALED                  \", \"X0_POWER_+1.8V              \", \"X0_POWER_VCCAUX             \", \"X0_POWER_MGTAVTT_N          \", \"X0_POWER_MGTAVCC_N          \", \"X0_POWER_MGTAVCC_S          \", \"X0_POWER_MGTAVTT_S          \") VALUES (?, ?, ?, ?, ?, ?, ?, ?, ?, ?, ?, ?, ?, ?, ?, ?, ?, ?, ?, ?, ?, ?, ?, ?, ?, ?, ?, ?, ?, ?, ?, ?, ?)\n",
      "2019-03-15 15:36:55,911 INFO sqlalchemy.engine.base.Engine ((0, 0.863938, 2.047938, 2.047938, 2.047938, 2.047938, 2.047938, 2.943938, 2.047938, 2.047938, 2.687938, 2.751938, 2.815938, 0.0, 0.223938, 2.815938, 2.047938, 3.071938, 3.071938, 2.943938, 3.071938, 2.047938, 2.943938, 2.943938, 2.047938, 3.839938, 0.0, 0.255938, 2.751938, 3.071938, 3.071938, 3.071938, 2.815938), (1, 1.535938, 2.815938, 2.783938, 2.751938, 2.559938, 2.815938, 3.071938, 2.047938, 2.047938, 3.071938, 3.071938, 3.071938, 0.0, 0.575938, 3.071938, 2.751938, 3.071938, 3.071938, 3.071938, 3.071938, 2.047938, 3.071938, 3.071938, 2.047938, 4.095938, 0.0, 0.703938, 3.071938, 3.071938, 3.071938, 3.071938, 3.071938), (2, 2.047938, 3.071938, 3.071938, 3.071938, 3.071938, 3.071938, 3.071938, 2.815938, 2.815938, 3.071938, 3.583938, 3.583938, 0.0, 1.407938, 3.583938, 3.071938, 3.583938, 3.583938, 3.583938, 3.583938, 2.815938, 3.583938, 3.583938, 2.815938, 4.095938, 0.0, 1.535938, 3.071938, 3.583938, 3.583938, 3.583938, 3.583938), (3, 2.943938, 3.071938, 3.583938, 3.583938, 3.071938, 3.071938, 3.583938, 3.071938, 3.071938, 3.583938, 3.583938, 3.839938, 0.0, 2.047938, 3.583938, 3.071938, 3.839938, 3.839938, 3.839938, 3.839938, 3.071938, 3.839938, 3.839938, 3.071938, 4.095938, 0.0, 2.047938, 3.583938, 3.839938, 3.839938, 3.839938, 3.839938), (4, 3.071938, 3.583938, 3.583938, 3.583938, 3.583938, 3.583938, 3.583938, 3.071938, 3.071938, 3.839938, 3.839938, 3.967938, 0.0, 2.559938, 3.839938, 3.583938, 4.095938, 3.967938, 4.095938, 4.095938, 3.071938, 4.095938, 4.095938, 3.071938, 4.095938, 0.0, 2.559938, 3.839938, 4.095938, 4.095938, 4.095938, 4.095938), (5, 3.583938, 3.583938, 3.583938, 3.583938, 3.583938, 3.583938, 3.839938, 3.583938, 3.583938, 3.839938, 4.095938, 4.095938, 0.0, 3.071938, 4.095938, 3.839938, 4.095938, 4.095938, 4.095938, 4.095938, 3.583938, 4.095938, 4.095938, 3.583938, 4.095938, 0.0, 3.071938, 4.095938, 4.095938, 4.095938, 4.095938, 4.095938), (6, 3.583938, 3.583938, 3.583938, 3.583938, 3.583938, 3.839938, 3.839938, 3.583938, 3.583938, 3.967938, 4.095938, 4.095938, 0.0, 3.071938, 4.095938, 3.967938, 4.095938, 4.095938, 4.095938, 4.095938, 3.839938, 4.095938, 4.095938, 3.839938, 4.095938, 0.0, 3.071938, 4.095938, 4.095938, 4.095938, 4.095938, 4.095938), (7, 3.583938, 3.583938, 3.583938, 3.839938, 3.839938, 3.839938, 3.839938, 3.839938, 3.839938, 4.095938, 4.095938, 4.095938, 0.0, 3.583938, 4.095938, 4.095938, 4.095938, 4.095938, 4.095938, 4.095938, 4.063938, 4.095938, 4.095938, 4.063938, 4.095938, 0.0, 3.583938, 4.095938, 4.095938, 4.095938, 4.095938, 4.095938))\n",
      "2019-03-15 15:36:55,912 INFO sqlalchemy.engine.base.Engine COMMIT\n"
     ]
    }
   ],
   "source": [
    "data.uploadDataToDB('../data/db.sqlite')"
   ]
  },
  {
   "cell_type": "code",
   "execution_count": 7,
   "metadata": {},
   "outputs": [],
   "source": [
    "engine = sqlalchemy.create_engine('sqlite:///../data/db.sqlite', echo=True)"
   ]
  },
  {
   "cell_type": "code",
   "execution_count": 8,
   "metadata": {},
   "outputs": [
    {
     "name": "stdout",
     "output_type": "stream",
     "text": [
      "2019-03-15 15:36:55,926 INFO sqlalchemy.engine.base.Engine SELECT CAST('test plain returns' AS VARCHAR(60)) AS anon_1\n",
      "2019-03-15 15:36:55,927 INFO sqlalchemy.engine.base.Engine ()\n",
      "2019-03-15 15:36:55,927 INFO sqlalchemy.engine.base.Engine SELECT CAST('test unicode returns' AS VARCHAR(60)) AS anon_1\n",
      "2019-03-15 15:36:55,928 INFO sqlalchemy.engine.base.Engine ()\n",
      "2019-03-15 15:36:55,929 INFO sqlalchemy.engine.base.Engine SELECT name FROM sqlite_master WHERE type='table' ORDER BY name\n",
      "2019-03-15 15:36:55,929 INFO sqlalchemy.engine.base.Engine ()\n"
     ]
    },
    {
     "data": {
      "text/plain": [
       "['20190315133643']"
      ]
     },
     "execution_count": 8,
     "metadata": {},
     "output_type": "execute_result"
    }
   ],
   "source": [
    "tables = engine.table_names()\n",
    "tables"
   ]
  },
  {
   "cell_type": "code",
   "execution_count": 9,
   "metadata": {},
   "outputs": [
    {
     "name": "stdout",
     "output_type": "stream",
     "text": [
      "2019-03-15 15:36:55,935 INFO sqlalchemy.engine.base.Engine SELECT * FROM '20190315133643'\n",
      "2019-03-15 15:36:55,935 INFO sqlalchemy.engine.base.Engine ()\n"
     ]
    },
    {
     "data": {
      "text/plain": [
       "[(0, 0.863938, 2.047938, 2.047938, 2.047938, 2.047938, 2.047938, 2.943938, 2.047938, 2.047938, 2.687938, 2.751938, 2.815938, 0.0, 0.223938, 2.815938, 2.047938, 3.071938, 3.071938, 2.943938, 3.071938, 2.047938, 2.943938, 2.943938, 2.047938, 3.839938, 0.0, 0.255938, 2.751938, 3.071938, 3.071938, 3.071938, 2.815938),\n",
       " (1, 1.535938, 2.815938, 2.783938, 2.751938, 2.559938, 2.815938, 3.071938, 2.047938, 2.047938, 3.071938, 3.071938, 3.071938, 0.0, 0.575938, 3.071938, 2.751938, 3.071938, 3.071938, 3.071938, 3.071938, 2.047938, 3.071938, 3.071938, 2.047938, 4.095938, 0.0, 0.703938, 3.071938, 3.071938, 3.071938, 3.071938, 3.071938),\n",
       " (2, 2.047938, 3.071938, 3.071938, 3.071938, 3.071938, 3.071938, 3.071938, 2.815938, 2.815938, 3.071938, 3.583938, 3.583938, 0.0, 1.407938, 3.583938, 3.071938, 3.583938, 3.583938, 3.583938, 3.583938, 2.815938, 3.583938, 3.583938, 2.815938, 4.095938, 0.0, 1.535938, 3.071938, 3.583938, 3.583938, 3.583938, 3.583938),\n",
       " (3, 2.943938, 3.071938, 3.583938, 3.583938, 3.071938, 3.071938, 3.583938, 3.071938, 3.071938, 3.583938, 3.583938, 3.839938, 0.0, 2.047938, 3.583938, 3.071938, 3.839938, 3.839938, 3.839938, 3.839938, 3.071938, 3.839938, 3.839938, 3.071938, 4.095938, 0.0, 2.047938, 3.583938, 3.839938, 3.839938, 3.839938, 3.839938),\n",
       " (4, 3.071938, 3.583938, 3.583938, 3.583938, 3.583938, 3.583938, 3.583938, 3.071938, 3.071938, 3.839938, 3.839938, 3.967938, 0.0, 2.559938, 3.839938, 3.583938, 4.095938, 3.967938, 4.095938, 4.095938, 3.071938, 4.095938, 4.095938, 3.071938, 4.095938, 0.0, 2.559938, 3.839938, 4.095938, 4.095938, 4.095938, 4.095938),\n",
       " (5, 3.583938, 3.583938, 3.583938, 3.583938, 3.583938, 3.583938, 3.839938, 3.583938, 3.583938, 3.839938, 4.095938, 4.095938, 0.0, 3.071938, 4.095938, 3.839938, 4.095938, 4.095938, 4.095938, 4.095938, 3.583938, 4.095938, 4.095938, 3.583938, 4.095938, 0.0, 3.071938, 4.095938, 4.095938, 4.095938, 4.095938, 4.095938),\n",
       " (6, 3.583938, 3.583938, 3.583938, 3.583938, 3.583938, 3.839938, 3.839938, 3.583938, 3.583938, 3.967938, 4.095938, 4.095938, 0.0, 3.071938, 4.095938, 3.967938, 4.095938, 4.095938, 4.095938, 4.095938, 3.839938, 4.095938, 4.095938, 3.839938, 4.095938, 0.0, 3.071938, 4.095938, 4.095938, 4.095938, 4.095938, 4.095938),\n",
       " (7, 3.583938, 3.583938, 3.583938, 3.839938, 3.839938, 3.839938, 3.839938, 3.839938, 3.839938, 4.095938, 4.095938, 4.095938, 0.0, 3.583938, 4.095938, 4.095938, 4.095938, 4.095938, 4.095938, 4.095938, 4.063938, 4.095938, 4.095938, 4.063938, 4.095938, 0.0, 3.583938, 4.095938, 4.095938, 4.095938, 4.095938, 4.095938)]"
      ]
     },
     "execution_count": 9,
     "metadata": {},
     "output_type": "execute_result"
    }
   ],
   "source": [
    "engine.execute(\"SELECT * FROM '20190315133643'\").fetchall()"
   ]
  },
  {
   "cell_type": "code",
   "execution_count": 12,
   "metadata": {},
   "outputs": [
    {
     "name": "stdout",
     "output_type": "stream",
     "text": [
      "2019-03-15 15:37:20,128 INFO sqlalchemy.engine.base.Engine DROP TABLE IF EXISTS 'users'\n",
      "2019-03-15 15:37:20,129 INFO sqlalchemy.engine.base.Engine ()\n",
      "2019-03-15 15:37:20,130 INFO sqlalchemy.engine.base.Engine COMMIT\n"
     ]
    },
    {
     "data": {
      "text/plain": [
       "<sqlalchemy.engine.result.ResultProxy at 0x7f7f0f7501d0>"
      ]
     },
     "execution_count": 12,
     "metadata": {},
     "output_type": "execute_result"
    }
   ],
   "source": [
    "engine.execute(\"DROP TABLE IF EXISTS 'users'\")"
   ]
  },
  {
   "cell_type": "code",
   "execution_count": 17,
   "metadata": {},
   "outputs": [
    {
     "data": {
      "text/html": [
       "<div>\n",
       "<style scoped>\n",
       "    .dataframe tbody tr th:only-of-type {\n",
       "        vertical-align: middle;\n",
       "    }\n",
       "\n",
       "    .dataframe tbody tr th {\n",
       "        vertical-align: top;\n",
       "    }\n",
       "\n",
       "    .dataframe thead th {\n",
       "        text-align: right;\n",
       "    }\n",
       "</style>\n",
       "<table border=\"1\" class=\"dataframe\">\n",
       "  <thead>\n",
       "    <tr style=\"text-align: right;\">\n",
       "      <th></th>\n",
       "      <th>a</th>\n",
       "      <th>b</th>\n",
       "      <th>c</th>\n",
       "      <th>d</th>\n",
       "    </tr>\n",
       "  </thead>\n",
       "  <tbody>\n",
       "    <tr>\n",
       "      <th>0</th>\n",
       "      <td>0</td>\n",
       "      <td>1</td>\n",
       "      <td>2</td>\n",
       "      <td>3</td>\n",
       "    </tr>\n",
       "  </tbody>\n",
       "</table>\n",
       "</div>"
      ],
      "text/plain": [
       "   a  b  c  d\n",
       "0  0  1  2  3"
      ]
     },
     "execution_count": 17,
     "metadata": {},
     "output_type": "execute_result"
    }
   ],
   "source": [
    "pd.DataFrame([[0,1,2,3]], columns=['a', 'b', 'c', 'd'])"
   ]
  },
  {
   "cell_type": "code",
   "execution_count": null,
   "metadata": {},
   "outputs": [],
   "source": []
  }
 ],
 "metadata": {
  "kernelspec": {
   "display_name": "Python (serenity-test-board)",
   "language": "python",
   "name": "serenity-test-board"
  },
  "language_info": {
   "codemirror_mode": {
    "name": "ipython",
    "version": 3
   },
   "file_extension": ".py",
   "mimetype": "text/x-python",
   "name": "python",
   "nbconvert_exporter": "python",
   "pygments_lexer": "ipython3",
   "version": "3.7.2"
  }
 },
 "nbformat": 4,
 "nbformat_minor": 2
}
